{
  "nbformat": 4,
  "nbformat_minor": 0,
  "metadata": {
    "colab": {
      "name": "MyFcn.ipynb",
      "version": "0.3.2",
      "provenance": []
    },
    "kernelspec": {
      "name": "python3",
      "display_name": "Python 3"
    },
    "accelerator": "GPU"
  },
  "cells": [
    {
      "cell_type": "code",
      "metadata": {
        "id": "UvR6SoZ859do",
        "colab_type": "code",
        "colab": {}
      },
      "source": [
        "### FIRST THING FIRST COMES AUTHENTICATION\n",
        "# Install the PyDrive wrapper & import libraries.\n",
        "# This only needs to be done once in a notebook.\n",
        "!pip install -U -q PyDrive\n",
        "from pydrive.auth import GoogleAuth\n",
        "from pydrive.drive import GoogleDrive\n",
        "from google.colab import auth\n",
        "from oauth2client.client import GoogleCredentials\n",
        "\n",
        "# Authenticate and create the PyDrive client.\n",
        "# This only needs to be done once in a notebook.\n",
        "auth.authenticate_user()\n",
        "gauth = GoogleAuth()\n",
        "gauth.credentials = GoogleCredentials.get_application_default()\n",
        "drive = GoogleDrive(gauth)"
      ],
      "execution_count": 0,
      "outputs": []
    },
    {
      "cell_type": "code",
      "metadata": {
        "id": "lvZ8WRd16AhO",
        "colab_type": "code",
        "outputId": "3fa8d9ae-008c-49eb-f188-a565b627e300",
        "colab": {
          "base_uri": "https://localhost:8080/",
          "height": 52
        }
      },
      "source": [
        "fileId = drive.CreateFile({'id': '1jqjHB2QYwh7eTEqWEB5QFCcbNNkhOPXA'}) \n",
        "fileId.GetContentFile(fileId['title'])  # Save Drive file as a local file\n",
        "print('Uploaded {}, id {}'.format(fileId['title'], fileId['id']))\n",
        "\n",
        "\n",
        "fileId1 = drive.CreateFile({'id': '18yJQH7ksJy4QMZ9UCMCQrApuKq93C7jw'}) \n",
        "fileId1.GetContentFile(fileId1['title'])  # Save Drive file as a local file\n",
        "print('Uploaded {}, id {}'.format(fileId1['title'], fileId1['id']))"
      ],
      "execution_count": 0,
      "outputs": [
        {
          "output_type": "stream",
          "text": [
            "Uploaded training_data.zip, id 1jqjHB2QYwh7eTEqWEB5QFCcbNNkhOPXA\n",
            "Uploaded ground_truth_data.zip, id 18yJQH7ksJy4QMZ9UCMCQrApuKq93C7jw\n"
          ],
          "name": "stdout"
        }
      ]
    },
    {
      "cell_type": "code",
      "metadata": {
        "id": "fS12qj2H6DWs",
        "colab_type": "code",
        "outputId": "ee8ecc9a-4d20-49d9-bf95-38712a675fa5",
        "colab": {
          "base_uri": "https://localhost:8080/",
          "height": 391
        }
      },
      "source": [
        "!unzip ground_truth_data\n",
        "!unzip training_data"
      ],
      "execution_count": 0,
      "outputs": [
        {
          "output_type": "stream",
          "text": [
            "Archive:  ground_truth_data.zip\n",
            "  inflating: training_sa_crop_pat5-label.nii  \n",
            "  inflating: training_sa_crop_pat6-label.nii  \n",
            "  inflating: training_sa_crop_pat7-label.nii  \n",
            "  inflating: training_sa_crop_pat8-label.nii  \n",
            "  inflating: training_sa_crop_pat9-label.nii  \n",
            "  inflating: training_sa_crop_pat0-label.nii  \n",
            "  inflating: training_sa_crop_pat1-label.nii  \n",
            "  inflating: training_sa_crop_pat2-label.nii  \n",
            "  inflating: training_sa_crop_pat3-label.nii  \n",
            "  inflating: training_sa_crop_pat4-label.nii  \n",
            "Archive:  training_data.zip\n",
            "  inflating: training_sa_crop_pat6.nii  \n",
            "  inflating: training_sa_crop_pat7.nii  \n",
            "  inflating: training_sa_crop_pat8.nii  \n",
            "  inflating: training_sa_crop_pat9.nii  \n",
            "  inflating: training_sa_crop_pat0.nii  \n",
            "  inflating: training_sa_crop_pat1.nii  \n",
            "  inflating: training_sa_crop_pat2.nii  \n",
            "  inflating: training_sa_crop_pat3.nii  \n",
            "  inflating: training_sa_crop_pat4.nii  \n",
            "  inflating: training_sa_crop_pat5.nii  \n"
          ],
          "name": "stdout"
        }
      ]
    },
    {
      "cell_type": "code",
      "metadata": {
        "id": "8ucWfUc96FbE",
        "colab_type": "code",
        "outputId": "0eb4bc32-44a5-41af-80d2-40853df3822d",
        "colab": {
          "base_uri": "https://localhost:8080/",
          "height": 34
        }
      },
      "source": [
        "import os\n",
        "from google.colab import drive\n",
        "import numpy as np\n",
        "import matplotlib.pyplot as plt\n",
        "import matplotlib.pyplot as plt_prediction\n",
        "import matplotlib.pyplot as plt_maschera\n",
        "from google.colab.patches import cv2_imshow\n",
        "from keras import backend as K\n",
        "from keras import layers\n",
        "from keras.layers import Activation\n",
        "from keras.layers import Input, Conv2D, ZeroPadding2D, MaxPooling2D, UpSampling2D, concatenate\n",
        "from keras.layers.normalization import BatchNormalization\n",
        "from keras.models import Model\n",
        "from keras.optimizers import Adam\n",
        "from PIL import Image\n",
        "from keras.preprocessing.image import load_img\n",
        "import numpy as np\n",
        "import nibabel as nib\n",
        "from google.colab import files\n",
        "from PIL import Image\n",
        "import PIL.ImageOps  \n",
        "from scipy.ndimage import zoom\n",
        "from keras import losses"
      ],
      "execution_count": 0,
      "outputs": [
        {
          "output_type": "stream",
          "text": [
            "Using TensorFlow backend.\n"
          ],
          "name": "stderr"
        }
      ]
    },
    {
      "cell_type": "code",
      "metadata": {
        "id": "0-tTw2t96H18",
        "colab_type": "code",
        "outputId": "bbcca42a-8311-4952-a611-59ea59877ca3",
        "colab": {
          "base_uri": "https://localhost:8080/",
          "height": 1000
        }
      },
      "source": [
        "img_rows = 128\n",
        "img_cols = 160\n",
        "\n",
        "array_training = np.zeros((207,128,160))\n",
        "array_gt = np.zeros((207,128,160))\n",
        "\n",
        "for x in range (10):\n",
        "  img_training = nib.load('../content/training_sa_crop_pat%d.nii' % (x))\n",
        "  img_gt = nib.load('../content/training_sa_crop_pat%d-label.nii' % (x))\n",
        "  array_img_training = np.array(img_training.dataobj)\n",
        "  array_img_gt = np.array(img_gt.dataobj)\n",
        "  array_img_training=np.swapaxes(array_img_training,0,1)\n",
        "  array_img_gt=np.swapaxes(array_img_gt,0,1)\n",
        "  print(\"shape img training %d: \" % (x))\n",
        "  print(array_img_training.shape)\n",
        "  print(\"shape img gt %d: \" % (x))\n",
        "  print(array_img_gt.shape)\n",
        "  \n",
        "  array_img_training = zoom(array_img_training, (1, 128/array_img_training.shape[1], 160/array_img_training.shape[2]))\n",
        "  array_img_gt = zoom(array_img_gt, (1, 128/array_img_gt.shape[1], 160/array_img_gt.shape[2]))\n",
        "  print(\"NUOVO shape img training %d: \" % (x))\n",
        "  print(array_img_training.shape)\n",
        "  print(\"NUOVO shape img gt %d: \" % (x))\n",
        "  print(array_img_gt.shape)\n",
        "  if (x == 0):\n",
        "    array_training = array_img_training\n",
        "    array_gt = array_img_gt\n",
        "  else :\n",
        "    array_training = np.concatenate((array_training, array_img_training), axis = 0)\n",
        "    array_gt = np.concatenate((array_gt, array_img_gt), axis = 0)\n",
        "    \n",
        "print(\"--> shape array training finale concatenato: \")\n",
        "print(array_training.shape)\n",
        "print(\"--> shape array gt finale concatenato: \")\n",
        "print(array_gt.shape)\n",
        "  \n",
        "array_training = array_training.reshape((array_training.shape[0], array_training.shape[1], array_training.shape[2],1))\n",
        "\n",
        "#preprocessing delle immagini\n",
        "array_training = array_training.astype('float32')\n",
        "mean = np.mean(array_training)\n",
        "std = np.std(array_training)\n",
        "\n",
        "array_training -= mean\n",
        "array_training /= std"
      ],
      "execution_count": 0,
      "outputs": [
        {
          "output_type": "stream",
          "text": [
            "shape img training 0: \n",
            "(207, 127, 151)\n",
            "shape img gt 0: \n",
            "(207, 127, 151)\n",
            "NUOVO shape img training 0: \n",
            "(207, 128, 160)\n",
            "NUOVO shape img gt 0: \n",
            "(207, 128, 160)\n",
            "shape img training 1: \n",
            "(220, 127, 160)\n",
            "shape img gt 1: \n",
            "(220, 127, 160)\n",
            "NUOVO shape img training 1: \n",
            "(220, 128, 160)\n",
            "NUOVO shape img gt 1: \n",
            "(220, 128, 160)\n",
            "shape img training 2: \n",
            "(231, 118, 190)\n",
            "shape img gt 2: \n",
            "(231, 118, 190)\n",
            "NUOVO shape img training 2: \n",
            "(231, 128, 160)\n",
            "NUOVO shape img gt 2: \n",
            "(231, 128, 160)\n",
            "shape img training 3: \n",
            "(175, 150, 148)\n",
            "shape img gt 3: \n",
            "(175, 150, 148)\n",
            "NUOVO shape img training 3: \n",
            "(175, 128, 160)\n",
            "NUOVO shape img gt 3: \n",
            "(175, 128, 160)\n",
            "shape img training 4: \n",
            "(105, 95, 130)\n",
            "shape img gt 4: \n",
            "(105, 95, 130)\n",
            "NUOVO shape img training 4: \n",
            "(105, 128, 160)\n",
            "NUOVO shape img gt 4: \n",
            "(105, 128, 160)\n",
            "shape img training 5: \n",
            "(120, 97, 164)\n",
            "shape img gt 5: \n",
            "(120, 97, 164)\n",
            "NUOVO shape img training 5: \n",
            "(120, 128, 160)\n",
            "NUOVO shape img gt 5: \n",
            "(120, 128, 160)\n",
            "shape img training 6: \n",
            "(230, 150, 170)\n",
            "shape img gt 6: \n",
            "(230, 150, 170)\n",
            "NUOVO shape img training 6: \n",
            "(230, 128, 160)\n",
            "NUOVO shape img gt 6: \n",
            "(230, 128, 160)\n",
            "shape img training 7: \n",
            "(250, 165, 200)\n",
            "shape img gt 7: \n",
            "(250, 165, 200)\n",
            "NUOVO shape img training 7: \n",
            "(250, 128, 160)\n",
            "NUOVO shape img gt 7: \n",
            "(250, 128, 160)\n",
            "shape img training 8: \n",
            "(190, 140, 150)\n",
            "shape img gt 8: \n",
            "(190, 140, 150)\n",
            "NUOVO shape img training 8: \n",
            "(190, 128, 160)\n",
            "NUOVO shape img gt 8: \n",
            "(190, 128, 160)\n",
            "shape img training 9: \n",
            "(200, 170, 165)\n",
            "shape img gt 9: \n",
            "(200, 170, 165)\n",
            "NUOVO shape img training 9: \n",
            "(200, 128, 160)\n",
            "NUOVO shape img gt 9: \n",
            "(200, 128, 160)\n",
            "--> shape array training finale concatenato: \n",
            "(1928, 128, 160)\n",
            "--> shape array gt finale concatenato: \n",
            "(1928, 128, 160)\n"
          ],
          "name": "stdout"
        }
      ]
    },
    {
      "cell_type": "code",
      "metadata": {
        "id": "N1eS54Fi6PvN",
        "colab_type": "code",
        "colab": {}
      },
      "source": [
        "# seconda rete, Alternativa alla Unet\n",
        "\n",
        "from keras import optimizers\n",
        "from keras.models import Model\n",
        "from keras.layers import Dropout, Lambda\n",
        "from keras.layers import Input, average\n",
        "from keras.layers import Conv2D, MaxPooling2D, Conv2DTranspose\n",
        "from keras.layers import ZeroPadding2D, Cropping2D\n",
        "from keras import backend as K\n",
        "\n",
        "\n",
        "def mvn(tensor):\n",
        "    '''Performs per-channel spatial mean-variance normalization.'''\n",
        "    epsilon = 1e-6\n",
        "    mean = K.mean(tensor, axis=(1,2), keepdims=True)\n",
        "    std = K.std(tensor, axis=(1,2), keepdims=True)\n",
        "    mvn = (tensor - mean) / (std + epsilon)\n",
        "    \n",
        "    return mvn\n",
        "\n",
        "\n",
        "def crop(tensors):\n",
        "    '''\n",
        "    List of 2 tensors, the second tensor having larger spatial dimensions.\n",
        "    '''\n",
        "    h_dims, w_dims = [], []\n",
        "    for t in tensors:\n",
        "        b, h, w, d = K.get_variable_shape(t)\n",
        "        h_dims.append(h)\n",
        "        w_dims.append(w)\n",
        "    crop_h, crop_w = (h_dims[1] - h_dims[0]), (w_dims[1] - w_dims[0])\n",
        "    rem_h = crop_h % 2\n",
        "    rem_w = crop_w % 2\n",
        "    crop_h_dims = (crop_h // 2, crop_h // 2 + rem_h)\n",
        "    crop_w_dims = (crop_w // 2, crop_w // 2 + rem_w)\n",
        "    cropped = Cropping2D(cropping=(crop_h_dims, crop_w_dims))(tensors[1])\n",
        "    \n",
        "    return cropped\n",
        "\n",
        "\n",
        "def dice_coef(y_true, y_pred, smooth=0.0):\n",
        "    '''Average dice coefficient per batch.'''\n",
        "    axes = (1,2,3)\n",
        "    intersection = K.sum(y_true * y_pred, axis=axes)\n",
        "    summation = K.sum(y_true, axis=axes) + K.sum(y_pred, axis=axes)\n",
        "    \n",
        "    return K.mean((2.0 * intersection + smooth) // (summation + smooth), axis=0)\n",
        "\n",
        "\n",
        "def dice_coef_loss(y_true, y_pred):\n",
        "    return 1.0 - dice_coef(y_true, y_pred, smooth=10.0)\n",
        "\n",
        "\n",
        "def jaccard_coef(y_true, y_pred, smooth=0.0):\n",
        "    '''Average jaccard coefficient per batch.'''\n",
        "    axes = (1,2,3)\n",
        "    intersection = K.sum(y_true * y_pred, axis=axes)\n",
        "    union = K.sum(y_true, axis=axes) + K.sum(y_pred, axis=axes) - intersection\n",
        "    return K.mean( (intersection + smooth) // (union + smooth), axis=0)\n",
        "\n",
        "\n",
        "def fcn_model(input_shape, num_classes, weights=None):\n",
        "    ''' \"Skip\" FCN architecture similar to Long et al., 2015\n",
        "    https://arxiv.org/abs/1411.4038\n",
        "    '''\n",
        "    if num_classes == 2:\n",
        "        num_classes = 1\n",
        "        loss = dice_coef_loss\n",
        "        activation = 'sigmoid'\n",
        "    else:\n",
        "        loss = 'categorical_crossentropy'\n",
        "        activation = 'softmax'\n",
        "\n",
        "    kwargs = dict(\n",
        "        kernel_size=3,\n",
        "        strides=1,\n",
        "        activation='relu',\n",
        "        padding='same',\n",
        "        use_bias=True,\n",
        "        kernel_initializer='glorot_uniform',\n",
        "        bias_initializer='zeros',\n",
        "        bias_regularizer=None,\n",
        "        activity_regularizer=None,\n",
        "        kernel_constraint=None,\n",
        "        bias_constraint=None,\n",
        "        trainable=True,\n",
        "    )\n",
        "    \n",
        "    data = Input(shape=input_shape, dtype='float', name='data')\n",
        "    mvn0 = Lambda(mvn, name='mvn0')(data)\n",
        "    pad = ZeroPadding2D(padding=5, name='pad')(mvn0)\n",
        "\n",
        "    conv1 = Conv2D(filters=64, name='conv1', **kwargs)(pad)\n",
        "    mvn1 = Lambda(mvn, name='mvn1')(conv1)\n",
        "    \n",
        "    conv2 = Conv2D(filters=64, name='conv2', **kwargs)(mvn1)\n",
        "    mvn2 = Lambda(mvn, name='mvn2')(conv2)\n",
        "\n",
        "    conv3 = Conv2D(filters=64, name='conv3', **kwargs)(mvn2)\n",
        "    mvn3 = Lambda(mvn, name='mvn3')(conv3)\n",
        "    pool1 = MaxPooling2D(pool_size=3, strides=2,\n",
        "                    padding='valid', name='pool1')(mvn3)\n",
        "\n",
        "    \n",
        "    conv4 = Conv2D(filters=128, name='conv4', **kwargs)(pool1)\n",
        "    mvn4 = Lambda(mvn, name='mvn4')(conv4)\n",
        "\n",
        "    conv5 = Conv2D(filters=128, name='conv5', **kwargs)(mvn4)\n",
        "    mvn5 = Lambda(mvn, name='mvn5')(conv5)\n",
        "\n",
        "    conv6 = Conv2D(filters=128, name='conv6', **kwargs)(mvn5)\n",
        "    mvn6 = Lambda(mvn, name='mvn6')(conv6)\n",
        "\n",
        "    conv7 = Conv2D(filters=128, name='conv7', **kwargs)(mvn6)\n",
        "    mvn7 = Lambda(mvn, name='mvn7')(conv7)\n",
        "    pool2 = MaxPooling2D(pool_size=3, strides=2,\n",
        "                    padding='valid', name='pool2')(mvn7)\n",
        "\n",
        "\n",
        "    conv8 = Conv2D(filters=256, name='conv8', **kwargs)(pool2)\n",
        "    mvn8 = Lambda(mvn, name='mvn8')(conv8)\n",
        "\n",
        "    conv9 = Conv2D(filters=256, name='conv9', **kwargs)(mvn8)\n",
        "    mvn9 = Lambda(mvn, name='mvn9')(conv9)\n",
        "\n",
        "    conv10 = Conv2D(filters=256, name='conv10', **kwargs)(mvn9)\n",
        "    mvn10 = Lambda(mvn, name='mvn10')(conv10)\n",
        "\n",
        "    conv11 = Conv2D(filters=256, name='conv11', **kwargs)(mvn10)\n",
        "    mvn11 = Lambda(mvn, name='mvn11')(conv11)\n",
        "    pool3 = MaxPooling2D(pool_size=3, strides=2,\n",
        "                    padding='valid', name='pool3')(mvn11)\n",
        "    drop1 = Dropout(rate=0.5, name='drop1')(pool3)\n",
        "\n",
        "\n",
        "    conv12 = Conv2D(filters=512, name='conv12', **kwargs)(drop1)\n",
        "    mvn12 = Lambda(mvn, name='mvn12')(conv12)\n",
        "\n",
        "    conv13 = Conv2D(filters=512, name='conv13', **kwargs)(mvn12)\n",
        "    mvn13 = Lambda(mvn, name='mvn13')(conv13)\n",
        "\n",
        "    conv14 = Conv2D(filters=512, name='conv14', **kwargs)(mvn13)\n",
        "    mvn14 = Lambda(mvn, name='mvn14')(conv14)\n",
        "\n",
        "    conv15 = Conv2D(filters=512, name='conv15', **kwargs)(mvn14)\n",
        "    mvn15 = Lambda(mvn, name='mvn15')(conv15)\n",
        "    drop2 = Dropout(rate=0.5, name='drop2')(mvn15)\n",
        "\n",
        "\n",
        "    score_conv15 = Conv2D(filters=num_classes, kernel_size=1,\n",
        "                        strides=1, activation=None, padding='valid',\n",
        "                        kernel_initializer='glorot_uniform', use_bias=True,\n",
        "                        name='score_conv15')(drop2)\n",
        "    upsample1 = Conv2DTranspose(filters=num_classes, kernel_size=3,\n",
        "                        strides=2, activation=None, padding='valid',\n",
        "                        kernel_initializer='glorot_uniform', use_bias=False,\n",
        "                        name='upsample1')(score_conv15)\n",
        "    score_conv11 = Conv2D(filters=num_classes, kernel_size=1,\n",
        "                        strides=1, activation=None, padding='valid',\n",
        "                        kernel_initializer='glorot_uniform', use_bias=True,\n",
        "                        name='score_conv11')(mvn11)\n",
        "    crop1 = Lambda(crop, name='crop1')([upsample1, score_conv11])\n",
        "    fuse_scores1 = average([crop1, upsample1], name='fuse_scores1')\n",
        "    \n",
        "    upsample2 = Conv2DTranspose(filters=num_classes, kernel_size=3,\n",
        "                        strides=2, activation=None, padding='valid',\n",
        "                        kernel_initializer='glorot_uniform', use_bias=False,\n",
        "                        name='upsample2')(fuse_scores1)\n",
        "    score_conv7 = Conv2D(filters=num_classes, kernel_size=1,\n",
        "                        strides=1, activation=None, padding='valid',\n",
        "                        kernel_initializer='glorot_uniform', use_bias=True,\n",
        "                        name='score_conv7')(mvn7)\n",
        "    crop2 = Lambda(crop, name='crop2')([upsample2, score_conv7])\n",
        "    fuse_scores2 = average([crop2, upsample2], name='fuse_scores2')\n",
        "    \n",
        "    upsample3 = Conv2DTranspose(filters=num_classes, kernel_size=3,\n",
        "                        strides=2, activation=None, padding='valid',\n",
        "                        kernel_initializer='glorot_uniform', use_bias=False,\n",
        "                        name='upsample3')(fuse_scores2)\n",
        "    crop3 = Lambda(crop, name='crop3')([data, upsample3])\n",
        "    predictions = Conv2D(filters=num_classes, kernel_size=1,\n",
        "                        strides=1, activation=activation, padding='valid',\n",
        "                        kernel_initializer='glorot_uniform', use_bias=True,\n",
        "                        name='predictions')(crop3)\n",
        "    \n",
        "    model = Model(inputs=data, outputs=predictions)\n",
        "    if weights is not None:\n",
        "        model.load_weights(weights)\n",
        "    sgd = optimizers.SGD(lr=0.01, momentum=0.9, nesterov=True)\n",
        "    model.compile(optimizer=sgd, loss=loss,\n",
        "                  metrics=['accuracy', dice_coef, jaccard_coef])\n",
        "\n",
        "    return model\n",
        "\n"
      ],
      "execution_count": 0,
      "outputs": []
    },
    {
      "cell_type": "code",
      "metadata": {
        "id": "JhP014zW6bD4",
        "colab_type": "code",
        "colab": {}
      },
      "source": [
        "model = fcn_model((img_rows, img_cols, 1), 3, weights=None)"
      ],
      "execution_count": 0,
      "outputs": []
    },
    {
      "cell_type": "code",
      "metadata": {
        "id": "PVqDdJJQ6giV",
        "colab_type": "code",
        "outputId": "f4d6abbe-a0d5-4464-b737-d65a1fd4c05b",
        "colab": {
          "base_uri": "https://localhost:8080/",
          "height": 1000
        }
      },
      "source": [
        "from keras.utils import to_categorical\n",
        "\n",
        "\n",
        "# suddivisione del dataset in 70% training e 30% test\n",
        "#x_train = array_training[0:1350]\n",
        "#x_test = array_training[1351:1928]\n",
        "\n",
        "#suddivisione del dataset in 7 pazienti per il training e 3 per il test\n",
        "x_train = array_training[0:1288]\n",
        "x_test = array_training[1288:1928]\n",
        "print(x_train.shape)\n",
        "print(x_test.shape)\n",
        "\n",
        "#y_train = array_gt[0:1350]\n",
        "#y_test = array_gt[1351:1928]\n",
        "\n",
        "y_train = array_gt[0:1288]\n",
        "y_test = array_gt[1288:1928]\n",
        "\n",
        "# one hot encoding con tensorflow per 3 classi\n",
        "import tensorflow as tf\n",
        "n_classes = 3 \n",
        "tensor=tf.one_hot(y_train, n_classes)   \n",
        "\n",
        "#trasformaiamo il tensor in numpy array\n",
        "with tf.Session() as sess:\n",
        "   y_train_ohe=sess.run(tensor)\n",
        "\n",
        "# alleniamo il modello\n",
        "results = model.fit(x_train, y_train_ohe,validation_split=0.2 ,batch_size=16,epochs=50)"
      ],
      "execution_count": 0,
      "outputs": [
        {
          "output_type": "stream",
          "text": [
            "(1288, 128, 160, 1)\n",
            "(640, 128, 160, 1)\n",
            "Train on 1030 samples, validate on 258 samples\n",
            "Epoch 1/50\n",
            "1030/1030 [==============================] - 77s 75ms/step - loss: 0.7160 - acc: 0.7311 - dice_coef: 0.0000e+00 - jaccard_coef: 0.0000e+00 - val_loss: 0.3517 - val_acc: 0.9041 - val_dice_coef: 0.0000e+00 - val_jaccard_coef: 0.0000e+00\n",
            "Epoch 2/50\n",
            "1030/1030 [==============================] - 71s 69ms/step - loss: 0.3058 - acc: 0.8974 - dice_coef: 0.0000e+00 - jaccard_coef: 0.0000e+00 - val_loss: 0.2203 - val_acc: 0.9383 - val_dice_coef: 0.0000e+00 - val_jaccard_coef: 0.0000e+00\n",
            "Epoch 3/50\n",
            "1030/1030 [==============================] - 71s 69ms/step - loss: 0.2026 - acc: 0.9311 - dice_coef: 0.0000e+00 - jaccard_coef: 0.0000e+00 - val_loss: 0.2483 - val_acc: 0.9240 - val_dice_coef: 0.0000e+00 - val_jaccard_coef: 0.0000e+00\n",
            "Epoch 4/50\n",
            "1030/1030 [==============================] - 71s 69ms/step - loss: 0.1618 - acc: 0.9437 - dice_coef: 0.0000e+00 - jaccard_coef: 0.0000e+00 - val_loss: 0.2667 - val_acc: 0.9120 - val_dice_coef: 0.0000e+00 - val_jaccard_coef: 0.0000e+00\n",
            "Epoch 5/50\n",
            "1030/1030 [==============================] - 71s 69ms/step - loss: 0.1367 - acc: 0.9520 - dice_coef: 0.0000e+00 - jaccard_coef: 0.0000e+00 - val_loss: 0.2674 - val_acc: 0.9187 - val_dice_coef: 0.0000e+00 - val_jaccard_coef: 0.0000e+00\n",
            "Epoch 6/50\n",
            "1030/1030 [==============================] - 71s 69ms/step - loss: 0.1166 - acc: 0.9590 - dice_coef: 0.0000e+00 - jaccard_coef: 0.0000e+00 - val_loss: 0.2676 - val_acc: 0.9190 - val_dice_coef: 0.0000e+00 - val_jaccard_coef: 0.0000e+00\n",
            "Epoch 7/50\n",
            "1030/1030 [==============================] - 71s 69ms/step - loss: 0.1052 - acc: 0.9627 - dice_coef: 0.0000e+00 - jaccard_coef: 0.0000e+00 - val_loss: 0.2614 - val_acc: 0.9192 - val_dice_coef: 0.0000e+00 - val_jaccard_coef: 0.0000e+00\n",
            "Epoch 8/50\n",
            "1030/1030 [==============================] - 71s 69ms/step - loss: 0.0913 - acc: 0.9675 - dice_coef: 0.0000e+00 - jaccard_coef: 0.0000e+00 - val_loss: 0.2872 - val_acc: 0.9237 - val_dice_coef: 0.0000e+00 - val_jaccard_coef: 0.0000e+00\n",
            "Epoch 9/50\n",
            "1030/1030 [==============================] - 71s 69ms/step - loss: 0.0828 - acc: 0.9704 - dice_coef: 0.0000e+00 - jaccard_coef: 0.0000e+00 - val_loss: 0.2879 - val_acc: 0.9254 - val_dice_coef: 0.0000e+00 - val_jaccard_coef: 0.0000e+00\n",
            "Epoch 10/50\n",
            "1030/1030 [==============================] - 71s 69ms/step - loss: 0.0753 - acc: 0.9728 - dice_coef: 0.0000e+00 - jaccard_coef: 0.0000e+00 - val_loss: 0.3046 - val_acc: 0.9226 - val_dice_coef: 0.0000e+00 - val_jaccard_coef: 0.0000e+00\n",
            "Epoch 11/50\n",
            "1030/1030 [==============================] - 71s 69ms/step - loss: 0.0698 - acc: 0.9746 - dice_coef: 0.0000e+00 - jaccard_coef: 0.0000e+00 - val_loss: 0.3193 - val_acc: 0.9208 - val_dice_coef: 0.0000e+00 - val_jaccard_coef: 0.0000e+00\n",
            "Epoch 12/50\n",
            "1030/1030 [==============================] - 71s 69ms/step - loss: 0.1176 - acc: 0.9593 - dice_coef: 0.0000e+00 - jaccard_coef: 0.0000e+00 - val_loss: 0.1999 - val_acc: 0.9332 - val_dice_coef: 0.0000e+00 - val_jaccard_coef: 0.0000e+00\n",
            "Epoch 13/50\n",
            "1030/1030 [==============================] - 71s 69ms/step - loss: 0.0841 - acc: 0.9695 - dice_coef: 0.0000e+00 - jaccard_coef: 0.0000e+00 - val_loss: 0.2562 - val_acc: 0.9265 - val_dice_coef: 0.0000e+00 - val_jaccard_coef: 0.0000e+00\n",
            "Epoch 14/50\n",
            "1030/1030 [==============================] - 71s 69ms/step - loss: 0.0683 - acc: 0.9752 - dice_coef: 0.0000e+00 - jaccard_coef: 0.0000e+00 - val_loss: 0.3039 - val_acc: 0.9249 - val_dice_coef: 0.0000e+00 - val_jaccard_coef: 0.0000e+00\n",
            "Epoch 15/50\n",
            "1030/1030 [==============================] - 71s 69ms/step - loss: 0.0625 - acc: 0.9771 - dice_coef: 0.0000e+00 - jaccard_coef: 0.0000e+00 - val_loss: 0.3822 - val_acc: 0.9168 - val_dice_coef: 0.0000e+00 - val_jaccard_coef: 0.0000e+00\n",
            "Epoch 16/50\n",
            "1030/1030 [==============================] - 71s 69ms/step - loss: 0.0583 - acc: 0.9784 - dice_coef: 0.0000e+00 - jaccard_coef: 0.0000e+00 - val_loss: 0.3178 - val_acc: 0.9268 - val_dice_coef: 0.0000e+00 - val_jaccard_coef: 0.0000e+00\n",
            "Epoch 17/50\n",
            "1030/1030 [==============================] - 71s 69ms/step - loss: 0.0555 - acc: 0.9794 - dice_coef: 0.0000e+00 - jaccard_coef: 0.0000e+00 - val_loss: 0.3703 - val_acc: 0.9193 - val_dice_coef: 0.0000e+00 - val_jaccard_coef: 0.0000e+00\n",
            "Epoch 18/50\n",
            "1030/1030 [==============================] - 71s 69ms/step - loss: 0.0533 - acc: 0.9801 - dice_coef: 0.0000e+00 - jaccard_coef: 0.0000e+00 - val_loss: 0.3583 - val_acc: 0.9218 - val_dice_coef: 0.0000e+00 - val_jaccard_coef: 0.0000e+00\n",
            "Epoch 19/50\n",
            "1030/1030 [==============================] - 71s 69ms/step - loss: 0.0518 - acc: 0.9805 - dice_coef: 0.0000e+00 - jaccard_coef: 0.0000e+00 - val_loss: 0.3867 - val_acc: 0.9174 - val_dice_coef: 0.0000e+00 - val_jaccard_coef: 0.0000e+00\n",
            "Epoch 20/50\n",
            "1030/1030 [==============================] - 71s 69ms/step - loss: 0.0498 - acc: 0.9812 - dice_coef: 0.0000e+00 - jaccard_coef: 0.0000e+00 - val_loss: 0.4582 - val_acc: 0.9109 - val_dice_coef: 0.0000e+00 - val_jaccard_coef: 0.0000e+00\n",
            "Epoch 21/50\n",
            "1030/1030 [==============================] - 71s 69ms/step - loss: 0.0483 - acc: 0.9817 - dice_coef: 0.0000e+00 - jaccard_coef: 0.0000e+00 - val_loss: 0.4073 - val_acc: 0.9170 - val_dice_coef: 0.0000e+00 - val_jaccard_coef: 0.0000e+00\n",
            "Epoch 22/50\n",
            "1030/1030 [==============================] - 71s 69ms/step - loss: 0.0468 - acc: 0.9822 - dice_coef: 0.0000e+00 - jaccard_coef: 0.0000e+00 - val_loss: 0.4653 - val_acc: 0.8877 - val_dice_coef: 0.0000e+00 - val_jaccard_coef: 0.0000e+00\n",
            "Epoch 23/50\n",
            "1030/1030 [==============================] - 71s 69ms/step - loss: 0.0465 - acc: 0.9822 - dice_coef: 0.0000e+00 - jaccard_coef: 0.0000e+00 - val_loss: 0.4127 - val_acc: 0.9180 - val_dice_coef: 0.0000e+00 - val_jaccard_coef: 0.0000e+00\n",
            "Epoch 24/50\n",
            "1030/1030 [==============================] - 71s 69ms/step - loss: 0.0446 - acc: 0.9829 - dice_coef: 0.0000e+00 - jaccard_coef: 0.0000e+00 - val_loss: 0.4077 - val_acc: 0.9159 - val_dice_coef: 0.0000e+00 - val_jaccard_coef: 0.0000e+00\n",
            "Epoch 25/50\n",
            "1030/1030 [==============================] - 71s 69ms/step - loss: 0.0440 - acc: 0.9831 - dice_coef: 0.0000e+00 - jaccard_coef: 0.0000e+00 - val_loss: 0.4723 - val_acc: 0.8912 - val_dice_coef: 0.0000e+00 - val_jaccard_coef: 0.0000e+00\n",
            "Epoch 26/50\n",
            "1030/1030 [==============================] - 71s 69ms/step - loss: 0.0431 - acc: 0.9834 - dice_coef: 0.0000e+00 - jaccard_coef: 0.0000e+00 - val_loss: 0.4438 - val_acc: 0.8961 - val_dice_coef: 0.0000e+00 - val_jaccard_coef: 0.0000e+00\n",
            "Epoch 27/50\n",
            "1030/1030 [==============================] - 71s 69ms/step - loss: 0.0422 - acc: 0.9836 - dice_coef: 0.0000e+00 - jaccard_coef: 0.0000e+00 - val_loss: 0.4905 - val_acc: 0.8918 - val_dice_coef: 0.0000e+00 - val_jaccard_coef: 0.0000e+00\n",
            "Epoch 28/50\n",
            "1030/1030 [==============================] - 71s 69ms/step - loss: 0.0414 - acc: 0.9839 - dice_coef: 0.0000e+00 - jaccard_coef: 0.0000e+00 - val_loss: 0.4402 - val_acc: 0.9015 - val_dice_coef: 0.0000e+00 - val_jaccard_coef: 0.0000e+00\n",
            "Epoch 29/50\n",
            "1030/1030 [==============================] - 71s 69ms/step - loss: 0.0404 - acc: 0.9843 - dice_coef: 0.0000e+00 - jaccard_coef: 0.0000e+00 - val_loss: 0.5096 - val_acc: 0.8892 - val_dice_coef: 0.0000e+00 - val_jaccard_coef: 0.0000e+00\n",
            "Epoch 30/50\n",
            "1030/1030 [==============================] - 71s 69ms/step - loss: 0.0400 - acc: 0.9844 - dice_coef: 0.0000e+00 - jaccard_coef: 0.0000e+00 - val_loss: 0.5360 - val_acc: 0.8863 - val_dice_coef: 0.0000e+00 - val_jaccard_coef: 0.0000e+00\n",
            "Epoch 31/50\n",
            "1030/1030 [==============================] - 71s 69ms/step - loss: 0.0394 - acc: 0.9846 - dice_coef: 0.0000e+00 - jaccard_coef: 0.0000e+00 - val_loss: 0.4635 - val_acc: 0.8921 - val_dice_coef: 0.0000e+00 - val_jaccard_coef: 0.0000e+00\n",
            "Epoch 32/50\n",
            "1030/1030 [==============================] - 71s 69ms/step - loss: 0.0389 - acc: 0.9848 - dice_coef: 0.0000e+00 - jaccard_coef: 0.0000e+00 - val_loss: 0.5434 - val_acc: 0.8861 - val_dice_coef: 0.0000e+00 - val_jaccard_coef: 0.0000e+00\n",
            "Epoch 33/50\n",
            "1030/1030 [==============================] - 71s 69ms/step - loss: 0.0382 - acc: 0.9850 - dice_coef: 0.0000e+00 - jaccard_coef: 0.0000e+00 - val_loss: 0.5613 - val_acc: 0.8868 - val_dice_coef: 0.0000e+00 - val_jaccard_coef: 0.0000e+00\n",
            "Epoch 34/50\n",
            "1030/1030 [==============================] - 71s 69ms/step - loss: 0.0376 - acc: 0.9852 - dice_coef: 0.0000e+00 - jaccard_coef: 0.0000e+00 - val_loss: 0.5609 - val_acc: 0.8854 - val_dice_coef: 0.0000e+00 - val_jaccard_coef: 0.0000e+00\n",
            "Epoch 35/50\n",
            "1030/1030 [==============================] - 71s 69ms/step - loss: 0.2656 - acc: 0.9317 - dice_coef: 0.0000e+00 - jaccard_coef: 0.0000e+00 - val_loss: 0.2246 - val_acc: 0.9232 - val_dice_coef: 0.0000e+00 - val_jaccard_coef: 0.0000e+00\n",
            "Epoch 36/50\n",
            "1030/1030 [==============================] - 71s 69ms/step - loss: 0.1529 - acc: 0.9443 - dice_coef: 0.0000e+00 - jaccard_coef: 0.0000e+00 - val_loss: 0.2115 - val_acc: 0.9250 - val_dice_coef: 0.0000e+00 - val_jaccard_coef: 0.0000e+00\n",
            "Epoch 37/50\n",
            "1030/1030 [==============================] - 71s 69ms/step - loss: 0.1133 - acc: 0.9589 - dice_coef: 0.0000e+00 - jaccard_coef: 0.0000e+00 - val_loss: 0.2315 - val_acc: 0.9296 - val_dice_coef: 0.0000e+00 - val_jaccard_coef: 0.0000e+00\n",
            "Epoch 38/50\n",
            "1030/1030 [==============================] - 67s 65ms/step - loss: 0.0936 - acc: 0.9660 - dice_coef: 0.0000e+00 - jaccard_coef: 0.0000e+00 - val_loss: 0.3104 - val_acc: 0.9180 - val_dice_coef: 0.0000e+00 - val_jaccard_coef: 0.0000e+00\n",
            "Epoch 39/50\n",
            "1030/1030 [==============================] - 46s 44ms/step - loss: 0.0816 - acc: 0.9704 - dice_coef: 0.0000e+00 - jaccard_coef: 0.0000e+00 - val_loss: 0.2644 - val_acc: 0.9257 - val_dice_coef: 0.0000e+00 - val_jaccard_coef: 0.0000e+00\n",
            "Epoch 40/50\n",
            "1030/1030 [==============================] - 46s 44ms/step - loss: 0.0739 - acc: 0.9731 - dice_coef: 0.0000e+00 - jaccard_coef: 0.0000e+00 - val_loss: 0.2875 - val_acc: 0.9268 - val_dice_coef: 0.0000e+00 - val_jaccard_coef: 0.0000e+00\n",
            "Epoch 41/50\n",
            "1030/1030 [==============================] - 46s 45ms/step - loss: 0.0668 - acc: 0.9755 - dice_coef: 0.0000e+00 - jaccard_coef: 0.0000e+00 - val_loss: 0.2846 - val_acc: 0.9288 - val_dice_coef: 0.0000e+00 - val_jaccard_coef: 0.0000e+00\n",
            "Epoch 42/50\n",
            "1030/1030 [==============================] - 46s 45ms/step - loss: 0.0623 - acc: 0.9771 - dice_coef: 0.0000e+00 - jaccard_coef: 0.0000e+00 - val_loss: 0.3103 - val_acc: 0.9257 - val_dice_coef: 0.0000e+00 - val_jaccard_coef: 0.0000e+00\n",
            "Epoch 43/50\n",
            "1030/1030 [==============================] - 46s 44ms/step - loss: 0.0590 - acc: 0.9782 - dice_coef: 0.0000e+00 - jaccard_coef: 0.0000e+00 - val_loss: 0.3278 - val_acc: 0.9259 - val_dice_coef: 0.0000e+00 - val_jaccard_coef: 0.0000e+00\n",
            "Epoch 44/50\n",
            "1030/1030 [==============================] - 46s 45ms/step - loss: 0.0556 - acc: 0.9793 - dice_coef: 0.0000e+00 - jaccard_coef: 0.0000e+00 - val_loss: 0.3306 - val_acc: 0.9256 - val_dice_coef: 0.0000e+00 - val_jaccard_coef: 0.0000e+00\n",
            "Epoch 45/50\n",
            "1030/1030 [==============================] - 46s 44ms/step - loss: 0.0531 - acc: 0.9801 - dice_coef: 0.0000e+00 - jaccard_coef: 0.0000e+00 - val_loss: 0.2749 - val_acc: 0.9312 - val_dice_coef: 0.0000e+00 - val_jaccard_coef: 0.0000e+00\n",
            "Epoch 46/50\n",
            "1030/1030 [==============================] - 46s 44ms/step - loss: 0.0512 - acc: 0.9808 - dice_coef: 0.0000e+00 - jaccard_coef: 0.0000e+00 - val_loss: 0.3520 - val_acc: 0.9267 - val_dice_coef: 0.0000e+00 - val_jaccard_coef: 0.0000e+00\n",
            "Epoch 47/50\n",
            "1030/1030 [==============================] - 46s 45ms/step - loss: 0.0493 - acc: 0.9814 - dice_coef: 0.0000e+00 - jaccard_coef: 0.0000e+00 - val_loss: 0.3260 - val_acc: 0.9261 - val_dice_coef: 0.0000e+00 - val_jaccard_coef: 0.0000e+00\n",
            "Epoch 48/50\n",
            "1030/1030 [==============================] - 46s 44ms/step - loss: 0.0479 - acc: 0.9818 - dice_coef: 0.0000e+00 - jaccard_coef: 0.0000e+00 - val_loss: 0.4214 - val_acc: 0.9177 - val_dice_coef: 0.0000e+00 - val_jaccard_coef: 0.0000e+00\n",
            "Epoch 49/50\n",
            "1030/1030 [==============================] - 46s 45ms/step - loss: 0.0478 - acc: 0.9818 - dice_coef: 0.0000e+00 - jaccard_coef: 0.0000e+00 - val_loss: 0.4176 - val_acc: 0.9194 - val_dice_coef: 0.0000e+00 - val_jaccard_coef: 0.0000e+00\n",
            "Epoch 50/50\n",
            "1030/1030 [==============================] - 46s 44ms/step - loss: 0.0456 - acc: 0.9826 - dice_coef: 0.0000e+00 - jaccard_coef: 0.0000e+00 - val_loss: 0.2972 - val_acc: 0.9296 - val_dice_coef: 0.0000e+00 - val_jaccard_coef: 0.0000e+00\n"
          ],
          "name": "stdout"
        }
      ]
    },
    {
      "cell_type": "code",
      "metadata": {
        "id": "7RbLI_9s6l0F",
        "colab_type": "code",
        "outputId": "3dd62acf-a7fb-4719-c96e-f1bee131fb7f",
        "colab": {
          "base_uri": "https://localhost:8080/",
          "height": 590
        }
      },
      "source": [
        "\n",
        "print(results.history.keys())\n",
        "\n",
        "# summarize history for loss\n",
        "plt.plot(results.history['val_acc'])\n",
        "plt.title('validation accuracy')\n",
        "plt.ylabel('val_acc')\n",
        "plt.xlabel('epoch')\n",
        "plt.legend('val_acc', loc='upper left')\n",
        "plt.show()\n",
        "\n",
        "\n",
        "# summarize history for loss\n",
        "plt.plot(results.history['loss'])\n",
        "plt.plot(results.history['val_loss'])\n",
        "plt.title('model loss')\n",
        "plt.ylabel('loss')\n",
        "plt.xlabel('epoch')\n",
        "plt.legend(['loss', 'val_loss'], loc='upper left')\n",
        "plt.show()\n",
        "\n"
      ],
      "execution_count": 0,
      "outputs": [
        {
          "output_type": "stream",
          "text": [
            "dict_keys(['val_loss', 'val_acc', 'val_dice_coef', 'val_jaccard_coef', 'loss', 'acc', 'dice_coef', 'jaccard_coef'])\n"
          ],
          "name": "stdout"
        },
        {
          "output_type": "display_data",
          "data": {
            "image/png": "[encoded data removed]",
            "text/plain": [
              "<Figure size 432x288 with 1 Axes>"
            ]
          },
          "metadata": {
            "tags": []
          }
        },
        {
          "output_type": "display_data",
          "data": {
            "image/png": "[encoded data removed]",
            "text/plain": [
              "<Figure size 432x288 with 1 Axes>"
            ]
          },
          "metadata": {
            "tags": []
          }
        }
      ]
    },
    {
      "cell_type": "code",
      "metadata": {
        "id": "7s49Lr6U6oaf",
        "colab_type": "code",
        "colab": {}
      },
      "source": [
        "import matplotlib.pyplot as plt\n",
        "# testa il modello\n",
        "predicted_image = model.predict(x_test, verbose = 0)"
      ],
      "execution_count": 0,
      "outputs": []
    },
    {
      "cell_type": "code",
      "metadata": {
        "id": "LosMGL-p6qr9",
        "colab_type": "code",
        "colab": {}
      },
      "source": [
        "#funzione dice con numpy arrays\n",
        "def dice(im1, im2, empty_score=1.0):\n",
        "    \"\"\"\n",
        "    Computes the Dice coefficient, a measure of set similarity.\n",
        "    Parameters\n",
        "    ----------\n",
        "    im1 : array-like, bool\n",
        "        Any array of arbitrary size. If not boolean, will be converted.\n",
        "    im2 : array-like, bool\n",
        "        Any other array of identical size. If not boolean, will be converted.\n",
        "    Returns\n",
        "    -------\n",
        "    dice : float\n",
        "        Dice coefficient as a float on range [0,1].\n",
        "        Maximum similarity = 1\n",
        "        No similarity = 0\n",
        "        Both are empty (sum eq to zero) = empty_score\n",
        "        \n",
        "    Notes\n",
        "    -----\n",
        "    The order of inputs for `dice` is irrelevant. The result will be\n",
        "    identical if `im1` and `im2` are switched.\n",
        "    \"\"\"\n",
        "    im1 = np.asarray(im1).astype(np.bool)\n",
        "    im2 = np.asarray(im2).astype(np.bool)\n",
        "\n",
        "    if im1.shape != im2.shape:\n",
        "        raise ValueError(\"Shape mismatch: im1 and im2 must have the same shape.\")\n",
        "\n",
        "    im_sum = im1.sum() + im2.sum()\n",
        "    if im_sum == 0:\n",
        "        return empty_score\n",
        "\n",
        "    # Compute Dice coefficient\n",
        "    intersection = np.logical_and(im1, im2)\n",
        "\n",
        "    return 2. * intersection.sum() / im_sum\n",
        "  \n",
        "  "
      ],
      "execution_count": 0,
      "outputs": []
    },
    {
      "cell_type": "code",
      "metadata": {
        "id": "GiLWo-RW6s7N",
        "colab_type": "code",
        "outputId": "20203b6d-4888-4f06-f57d-9c1def932d8a",
        "colab": {
          "base_uri": "https://localhost:8080/",
          "height": 556
        }
      },
      "source": [
        "# risultato della predizione, slice 0 con label = 0\n",
        "\n",
        "# round di tutti i valori della predizione\n",
        "predicted_image=np.round(predicted_image,0)\n",
        "\n",
        "\n",
        "image = (predicted_image[126][:, :,0] * 255.).astype(np.uint8)\n",
        "\n",
        "test=tf.one_hot(y_test,3) \n",
        "with tf.Session() as sess:\n",
        "   d=sess.run(test)\n",
        "image1 = (d[126][:, :,0] * 255.).astype(np.uint8)\n",
        "\n",
        "yy_pred=image\n",
        "yy_test=image1\n",
        "\n",
        "print(\"Dice coefficient del slice: \")\n",
        "print(\"--> \",dice(yy_pred,yy_test))\n",
        "\n",
        "img = Image.fromarray(image)  \n",
        "#plot result prediction\n",
        "plt_prediction.imshow(img)\n",
        "plt_prediction.show()\n",
        "\n",
        "\n",
        "\n",
        "# maschera, slice 0 con label = 0 (prima ne facciamo il one-hot-encoding)\n",
        "\n",
        "\n",
        "img = Image.fromarray(image1)\n",
        "plt_maschera.imshow(img)\n",
        "#print ground truth\n",
        "plt_maschera.show()"
      ],
      "execution_count": 0,
      "outputs": [
        {
          "output_type": "stream",
          "text": [
            "Dice coefficient del slice: \n",
            "-->  0.9563040197557964\n"
          ],
          "name": "stdout"
        },
        {
          "output_type": "display_data",
          "data": {
            "image/png": "[encoded data removed]",
            "text/plain": [
              "<Figure size 432x288 with 1 Axes>"
            ]
          },
          "metadata": {
            "tags": []
          }
        },
        {
          "output_type": "display_data",
          "data": {
            "image/png": "[encoded data removed]",
            "text/plain": [
              "<Figure size 432x288 with 1 Axes>"
            ]
          },
          "metadata": {
            "tags": []
          }
        }
      ]
    },
    {
      "cell_type": "code",
      "metadata": {
        "id": "mtMmdAh06vWt",
        "colab_type": "code",
        "outputId": "398416e2-addc-4d14-89d2-a5021fafb4e4",
        "colab": {
          "base_uri": "https://localhost:8080/",
          "height": 556
        }
      },
      "source": [
        "# risultato della predizione, slice 0 con label = 1\n",
        "image = (predicted_image[126][:, :,1] * 255.).astype(np.uint8)\n",
        "img = Image.fromarray(image)\n",
        "\n",
        "test=tf.one_hot(y_test,3) \n",
        "\n",
        "with tf.Session() as sess:\n",
        "   d=sess.run(test)\n",
        "image1 = (d[126][:, :,1] * 255.).astype(np.uint8)\n",
        "\n",
        "\n",
        "yy_pred=image\n",
        "yy_test=image1\n",
        "print(\"Dice coefficient del slice: \")\n",
        "print(\"--> \",dice(yy_pred,yy_test))\n",
        "\n",
        "plt_prediction.imshow(img)\n",
        "plt_prediction.show()\n",
        "\n",
        "\n",
        "# maschera, slice 0 con label = 1 (prima ne facciamo il one-hot-encoding)\n",
        "\n",
        "img = Image.fromarray(image1)\n",
        "plt_maschera.imshow(img)\n",
        "plt_maschera.show()"
      ],
      "execution_count": 0,
      "outputs": [
        {
          "output_type": "stream",
          "text": [
            "Dice coefficient del slice: \n",
            "-->  0.5079069767441861\n"
          ],
          "name": "stdout"
        },
        {
          "output_type": "display_data",
          "data": {
            "image/png": "[encoded data removed]",
            "text/plain": [
              "<Figure size 432x288 with 1 Axes>"
            ]
          },
          "metadata": {
            "tags": []
          }
        },
        {
          "output_type": "display_data",
          "data": {
            "image/png": "[encoded data removed]",
            "text/plain": [
              "<Figure size 432x288 with 1 Axes>"
            ]
          },
          "metadata": {
            "tags": []
          }
        }
      ]
    },
    {
      "cell_type": "code",
      "metadata": {
        "id": "4hKwhQmy6xyF",
        "colab_type": "code",
        "outputId": "dcd6e702-4cb7-438d-8e8e-bac3525ee91c",
        "colab": {
          "base_uri": "https://localhost:8080/",
          "height": 556
        }
      },
      "source": [
        "# risultato della predizione, slice 0 con label = 2\n",
        "image = (predicted_image[126][:, :,2] * 255.).astype(np.uint8)\n",
        "img = Image.fromarray(image) \n",
        "\n",
        "\n",
        "test=tf.one_hot(y_test,3) \n",
        "\n",
        "with tf.Session() as sess:\n",
        "   d=sess.run(test)\n",
        "\n",
        "image1 = (d[126][:, :,2] * 255.).astype(np.uint8)\n",
        "\n",
        "\n",
        "yy_pred=image\n",
        "yy_test=image1\n",
        "print(\"Dice coefficient del slice: \")\n",
        "print(\"--> \",dice(yy_pred,yy_test))\n",
        "\n",
        "\n",
        "plt_prediction.imshow(img)\n",
        "plt_prediction.show()\n",
        "\n",
        "\n",
        "# maschera, slice 0 con label = 2 (prima ne facciamo il one-hot-encoding)\n",
        "\n",
        "img = Image.fromarray(image1)\n",
        "plt_maschera.imshow(img)\n",
        "plt_maschera.show()"
      ],
      "execution_count": 0,
      "outputs": [
        {
          "output_type": "stream",
          "text": [
            "Dice coefficient del slice: \n",
            "-->  0.9462455553231541\n"
          ],
          "name": "stdout"
        },
        {
          "output_type": "display_data",
          "data": {
            "image/png": "[encoded data removed]",
            "text/plain": [
              "<Figure size 432x288 with 1 Axes>"
            ]
          },
          "metadata": {
            "tags": []
          }
        },
        {
          "output_type": "display_data",
          "data": {
            "image/png": "[encoded data removed]",
            "text/plain": [
              "<Figure size 432x288 with 1 Axes>"
            ]
          },
          "metadata": {
            "tags": []
          }
        }
      ]
    },
    {
      "cell_type": "code",
      "metadata": {
        "id": "Y27BoepF6z6m",
        "colab_type": "code",
        "outputId": "a31329ef-c4af-4b26-feae-65d0417bbcf9",
        "colab": {
          "base_uri": "https://localhost:8080/",
          "height": 1000
        }
      },
      "source": [
        "predicted_image=np.round(predicted_image,0)\n",
        "\n",
        "somma = 0\n",
        "array_dice_background = []\n",
        "\n",
        "for i in range(0,639):\n",
        "  image = (predicted_image[i][:, :,0] * 255.).astype(np.uint8)\n",
        "  image1 = (d[i][:, :,0] * 255.).astype(np.uint8)\n",
        "  yy_pred=image\n",
        "  yy_test=image1\n",
        "  dice_slice = dice(yy_pred,yy_test)\n",
        "  somma += dice_slice\n",
        "  array_dice_background.append(dice_slice)\n",
        "\n",
        "print(\"Dice medio per il Background:   \", somma/640)\n",
        "d_standard = np.std(array_dice_background)\n",
        "print(\"Deviazione standard-Background: \", d_standard)\n",
        "\n",
        "\n",
        "print(\"--------------------->\")\n",
        "\n",
        "somma = 0\n",
        "array_dice_miocardio = []\n",
        "\n",
        "for i in range(0,639):\n",
        "  image = (predicted_image[i][:, :,1] * 255.).astype(np.uint8)\n",
        "  image1 = (d[i][:, :,1] * 255.).astype(np.uint8)\n",
        "  yy_pred=image\n",
        "  yy_test=image1\n",
        "  dice_slice = dice(yy_pred,yy_test)\n",
        "  somma += dice_slice\n",
        "  array_dice_miocardio.append(dice_slice)\n",
        "\n",
        "print(\"Dice medio per il Miocardio:   \", somma/640)\n",
        "deviazione_standard = np.std(array_dice_miocardio)\n",
        "print(\"Deviazione standard-Miocardio: \", deviazione_standard)\n",
        "print(\"------------------------->\")\n",
        "\n",
        "somma = 0\n",
        "array_dice_bloodpool = []\n",
        "\n",
        "for i in range(0,639):\n",
        "  image = (predicted_image[i][:, :,2] * 255.).astype(np.uint8)\n",
        "  image1 = (d[i][:, :,2] * 255.).astype(np.uint8)\n",
        "  yy_pred=image\n",
        "  yy_test=image1\n",
        "  dice_slice = dice(yy_pred,yy_test)\n",
        "  somma += dice_slice\n",
        "  array_dice_bloodpool.append(dice_slice)\n",
        "\n",
        "print(\"Dice medio per il blood Pool:   \", somma/640)\n",
        "deviazione_standard = np.std(array_dice_bloodpool)\n",
        "print(\"Deviazione standard-Blood Pool: \", deviazione_standard)\n",
        "print(\"---------------------------->\")\n",
        "\n",
        "#colores = ['k','r','b','g','c','y','gray'] \n",
        "\n",
        "# summarize history for loss\n",
        "plt.plot(array_dice_background)\n",
        "plt.title('Andamento dice del Background')\n",
        "plt.ylabel('dice_coef')\n",
        "plt.xlabel('slice')\n",
        "plt.legend(['dice_coef_background'], loc='upper left')\n",
        "plt.show()\n",
        "\n",
        "# summarize history for loss\n",
        "plt.plot(array_dice_miocardio,color = 'b')\n",
        "plt.title('Andamento dice del Miocardio')\n",
        "plt.ylabel('dice_coef')\n",
        "plt.xlabel('slice')\n",
        "plt.legend(['dice_coef_miocardio'], loc='upper left')\n",
        "plt.show()\n",
        "\n",
        "\n",
        "# summarize history for loss\n",
        "plt.plot(array_dice_bloodpool,color = 'r')\n",
        "plt.title('Andamento dice del Bloodpool')\n",
        "plt.ylabel('dice_coef')\n",
        "plt.xlabel('slice')\n",
        "plt.legend(['dice_coef_bloodpool'], loc='upper left')\n",
        "plt.show()\n",
        "\n"
      ],
      "execution_count": 0,
      "outputs": [
        {
          "output_type": "stream",
          "text": [
            "Dice medio per il Background:    0.9518884090421338\n",
            "Deviazione standard-Background:  0.03900193045630794\n",
            "--------------------->\n",
            "Dice medio per il Miocardio:    0.2947523860397507\n",
            "Deviazione standard-Miocardio:  0.27294843304938454\n",
            "------------------------->\n",
            "Dice medio per il blood Pool:    0.7375672369431393\n",
            "Deviazione standard-Blood Pool:  0.28874401768570984\n",
            "---------------------------->\n"
          ],
          "name": "stdout"
        },
        {
          "output_type": "display_data",
          "data": {
            "image/png": "[encoded data removed]",
            "text/plain": [
              "<Figure size 432x288 with 1 Axes>"
            ]
          },
          "metadata": {
            "tags": []
          }
        },
        {
          "output_type": "display_data",
          "data": {
            "image/png": "[encoded data removed]",
            "text/plain": [
              "<Figure size 432x288 with 1 Axes>"
            ]
          },
          "metadata": {
            "tags": []
          }
        },
        {
          "output_type": "display_data",
          "data": {
            "image/png": "[encoded data removed]",
            "text/plain": [
              "<Figure size 432x288 with 1 Axes>"
            ]
          },
          "metadata": {
            "tags": []
          }
        }
      ]
    },
    {
      "cell_type": "code",
      "metadata": {
        "id": "ANvO5NZw62be",
        "colab_type": "code",
        "colab": {}
      },
      "source": [
        "\n",
        "def calcolo_voxel_bloodpool(array):\n",
        "  print(array.shape)\n",
        "  total = 0\n",
        "  slices = array.shape[0]\n",
        "  rows = array.shape[1]\n",
        "  columns = array.shape[2]\n",
        "  \n",
        "  for slice in range(slices):\n",
        "    for row in range(rows):\n",
        "      for column in range(columns):\n",
        "        print(slice,row,column)\n",
        "        if (np.any(array[slice][row, column, 0] == 2)):\n",
        "          total+=1\n",
        "          print('voxel trovato!')\n",
        "  return total\n",
        "  \n",
        "  \n",
        "  def calcolo_voxel_bloodpool1(array):\n",
        "    result = np.where(array == 2)\n",
        "    print(result)\n",
        " \n",
        "\n",
        "\n",
        "\n",
        "\n",
        "\n"
      ],
      "execution_count": 0,
      "outputs": []
    },
    {
      "cell_type": "code",
      "metadata": {
        "id": "JXIBMMO9R19P",
        "colab_type": "code",
        "colab": {}
      },
      "source": [
        "prediction_paziente_7 = predicted_image[0:250]\n",
        "prediction_paziente_7 = zoom(prediction_paziente_7, (1, 165/prediction_paziente_7.shape[1], 200/prediction_paziente_7.shape[2], 1))"
      ],
      "execution_count": 0,
      "outputs": []
    },
    {
      "cell_type": "code",
      "metadata": {
        "id": "x_gYOwczR6J7",
        "colab_type": "code",
        "colab": {}
      },
      "source": [
        "prediction_paziente_8 = predicted_image[250:440]\n",
        "prediction_paziente_8 = zoom(prediction_paziente_8, (1, 140/prediction_paziente_8.shape[1], 150/prediction_paziente_8.shape[2], 1))"
      ],
      "execution_count": 0,
      "outputs": []
    },
    {
      "cell_type": "code",
      "metadata": {
        "id": "Qbj4AH0tR8qG",
        "colab_type": "code",
        "colab": {}
      },
      "source": [
        "prediction_paziente_9 = predicted_image[440:640]\n",
        "prediction_paziente_9 = zoom(prediction_paziente_9, (1, 170/prediction_paziente_9.shape[1], 165/prediction_paziente_9.shape[2], 1))"
      ],
      "execution_count": 0,
      "outputs": []
    },
    {
      "cell_type": "code",
      "metadata": {
        "id": "X84GCL6P64hl",
        "colab_type": "code",
        "outputId": "5b4bf40d-aad6-40c4-dd6a-4a3678a06b5b",
        "colab": {
          "base_uri": "https://localhost:8080/",
          "height": 425
        }
      },
      "source": [
        "import numpy.ma as ma\n",
        "\n",
        "\n",
        "prediction_paziente_7 = predicted_image[0:250]\n",
        "prediction_paziente_8 = predicted_image[250:440]\n",
        "prediction_paziente_9 = predicted_image[440:640]\n",
        "\n",
        "# print(prediction_paziente_7.shape)\n",
        "# print(prediction_paziente_7[0][0,0,0])\n",
        "print(\"---------------------------->\")\n",
        "\n",
        "num_voxel_bloodpool_7 =np.sum(prediction_paziente_7[:,:,:,2])\n",
        "num_voxel_bloodpool_8 =np.sum(prediction_paziente_8[:,:,:,2])\n",
        "num_voxel_bloodpool_9 =np.sum(prediction_paziente_9[:,:,:,2])\n",
        "\n",
        "#num_voxel_bloodpool_7 =np.sum(calcolo_voxel_bloodpool(prediction_paziente_7))\n",
        "#num_voxel_bloodpool_8 =np.sum(calcolo_voxel_bloodpool(prediction_paziente_8))\n",
        "#num_voxel_bloodpool_9 =np.sum(calcolo_voxel_bloodpool(prediction_paziente_9))\n",
        "\n",
        "\n",
        "dictionary_num_voxels_prediction = {\n",
        "    7 : num_voxel_bloodpool_7,\n",
        "    8 : num_voxel_bloodpool_8,\n",
        "    9 : num_voxel_bloodpool_9\n",
        "}\n",
        "\n",
        "error_vet = np.arange(3)\n",
        "for x in range (7,10):\n",
        "  print(\"--> Paziente\", x,\":\")\n",
        "  img_gt = nib.load('../content/training_sa_crop_pat%d-label.nii' % (x))\n",
        "  dx,dy,dz= img_gt.header['pixdim'][1:4]\n",
        "  \n",
        "#   print(\"valori dx,dy,dz: \",dx,dy,dz)\n",
        "  \n",
        "  \n",
        "  volume_per_voxel=dx*dy*dz* 1e-3\n",
        "  \n",
        "  #numero totale di voxel\n",
        "  \n",
        "  num_voxel_gt =np.sum(img_gt.get_data() == 2)\n",
        "  \n",
        "  volume_gt = volume_per_voxel * num_voxel_gt\n",
        "  \n",
        "  volume_prediction = volume_per_voxel * dictionary_num_voxels_prediction[x]\n",
        "  \n",
        "  print(\"\\nVolume cuore GROUND TRUE: \")\n",
        "  print(\"-->\",volume_gt)\n",
        "  print(\"Volume cuore PREDICTION: \")\n",
        "  print(\"-->\",volume_prediction)\n",
        "  print(\"------------------------------->\")\n",
        "  error=volume_gt-volume_prediction\n",
        "  error_vet[x-7]=error\n",
        "  \n",
        "  #sommare tutti errori\n",
        "somma=0\n",
        "for x in range(0,error_vet.size):\n",
        "  somma=somma+error_vet[x]\n",
        "mae=somma/error_vet.size\n",
        "\n",
        "print(\"mae: \",mae,\"ml\")"
      ],
      "execution_count": 0,
      "outputs": [
        {
          "output_type": "stream",
          "text": [
            "---------------------------->\n",
            "--> Paziente 7 :\n",
            "\n",
            "Volume cuore GROUND TRUE: \n",
            "--> 445.55227017661934\n",
            "Volume cuore PREDICTION: \n",
            "--> 258.64649334356193\n",
            "------------------------------->\n",
            "--> Paziente 8 :\n",
            "\n",
            "Volume cuore GROUND TRUE: \n",
            "--> 355.71980225539204\n",
            "Volume cuore PREDICTION: \n",
            "--> 317.7585972166061\n",
            "------------------------------->\n",
            "--> Paziente 9 :\n",
            "\n",
            "Volume cuore GROUND TRUE: \n",
            "--> 622.2150389373302\n",
            "Volume cuore PREDICTION: \n",
            "--> 386.8132854716778\n",
            "------------------------------->\n",
            "mae:  152.66666666666666 ml\n"
          ],
          "name": "stdout"
        }
      ]
    }
  ]
}